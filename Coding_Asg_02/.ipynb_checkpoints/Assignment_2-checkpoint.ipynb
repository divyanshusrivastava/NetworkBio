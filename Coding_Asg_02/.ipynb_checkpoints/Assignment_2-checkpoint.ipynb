{
 "cells": [
  {
   "cell_type": "markdown",
   "metadata": {},
   "source": [
    " \n",
    "# NETWORK BIOLOGY \n",
    "  \n",
    "## Assignment 1\n",
    "\n",
    "####  Submitted By: \n",
    "#####  Divyanshu Srivastava (MT16125)\n"
   ]
  },
  {
   "cell_type": "code",
   "execution_count": 1,
   "metadata": {
    "collapsed": true
   },
   "outputs": [],
   "source": [
    "import numpy as np\n",
    "import networkx as nx\n",
    "import matplotlib.pyplot as plt"
   ]
  },
  {
   "cell_type": "markdown",
   "metadata": {},
   "source": [
    "##### Question 1 - Watts and Strogatz small world network model"
   ]
  },
  {
   "cell_type": "code",
   "execution_count": 32,
   "metadata": {},
   "outputs": [],
   "source": [
    "# Regular graph initialization\n",
    "nodes = 1000\n",
    "k = 10\n",
    "\n",
    "adj = np.zeros([nodes, nodes])\n",
    "\n",
    "for i in range(0, nodes):\n",
    "    for j in range(1, k/2 + 1):\n",
    "        adj[i, (i+j) % nodes] = 1\n",
    "        adj[(i+j) % nodes, i] = 1  \n",
    "\n",
    "edgelist = np.zeros([nodes*k/2, 2])\n",
    "iterator = 0\n",
    "\n",
    "for i in range(0, nodes-1):\n",
    "    for j in range(i+1, nodes):\n",
    "        if adj[i, j] == 1:\n",
    "            edgelist[iterator, 0] = i\n",
    "            edgelist[iterator, 1] = j\n",
    "            iterator += 1\n",
    "\n",
    "G = nx.Graph()\n",
    "G.add_edges_from(edgelist)\n",
    "# print adj\n",
    "# print sum(adj)\n",
    "# G = nx.random_regular_graph(k, nodes)\n",
    "G_copy = G\n",
    "\n",
    "# plt.clf()\n",
    "# pos=nx.spring_layout(G) # positions for all nodes\n",
    "# nx.draw(G, pos)\n",
    "# #nx.draw_networkx_labels(G, pos)\n",
    "# plt.title('Initial Regular Graph')\n",
    "# plt.show()"
   ]
  },
  {
   "cell_type": "code",
   "execution_count": 33,
   "metadata": {},
   "outputs": [
    {
     "ename": "NameError",
     "evalue": "name 'G_copy' is not defined",
     "output_type": "error",
     "traceback": [
      "\u001b[0;31m---------------------------------------------------------------------------\u001b[0m",
      "\u001b[0;31mNameError\u001b[0m                                 Traceback (most recent call last)",
      "\u001b[0;32m<ipython-input-33-36ea64048a9a>\u001b[0m in \u001b[0;36m<module>\u001b[0;34m()\u001b[0m\n\u001b[1;32m     19\u001b[0m \u001b[0;34m\u001b[0m\u001b[0m\n\u001b[1;32m     20\u001b[0m \u001b[0;32mfor\u001b[0m \u001b[0mp\u001b[0m \u001b[0;32min\u001b[0m \u001b[0mprob\u001b[0m\u001b[0;34m:\u001b[0m\u001b[0;34m\u001b[0m\u001b[0m\n\u001b[0;32m---> 21\u001b[0;31m     \u001b[0mG\u001b[0m \u001b[0;34m=\u001b[0m \u001b[0mG_copy\u001b[0m\u001b[0;34m\u001b[0m\u001b[0m\n\u001b[0m\u001b[1;32m     22\u001b[0m     \u001b[0;32mfor\u001b[0m \u001b[0mn\u001b[0m \u001b[0;32min\u001b[0m \u001b[0mG\u001b[0m\u001b[0;34m.\u001b[0m\u001b[0mnodes\u001b[0m\u001b[0;34m(\u001b[0m\u001b[0;34m)\u001b[0m\u001b[0;34m:\u001b[0m\u001b[0;34m\u001b[0m\u001b[0m\n\u001b[1;32m     23\u001b[0m         \u001b[0;32mfor\u001b[0m \u001b[0me\u001b[0m \u001b[0;32min\u001b[0m \u001b[0mG\u001b[0m\u001b[0;34m.\u001b[0m\u001b[0medges\u001b[0m\u001b[0;34m(\u001b[0m\u001b[0mn\u001b[0m\u001b[0;34m)\u001b[0m\u001b[0;34m:\u001b[0m\u001b[0;34m\u001b[0m\u001b[0m\n",
      "\u001b[0;31mNameError\u001b[0m: name 'G_copy' is not defined"
     ]
    }
   ],
   "source": [
    "# plt.clf()\n",
    "# pos=nx.spring_layout(G) # positions for all nodes\n",
    "# nx.draw(G, pos)\n",
    "# nx.draw_networkx_labels(G, pos)\n",
    "# plt.title('Initial Regular Graph')\n",
    "# plt.show()\n",
    "\n",
    "prob = list()\n",
    "prob.append(0.0001)\n",
    "while prob[-1] < 1:\n",
    "    prob.append(prob[-1]*2.303)\n",
    "prob = prob[0:-1]\n",
    "\n",
    "L = np.zeros_like(prob)\n",
    "C = np.zeros_like(prob)\n",
    "\n",
    "L[0] = nx.average_shortest_path_length(G)\n",
    "C[0] = nx.average_clustering(G)\n",
    "\n",
    "for p in prob:\n",
    "    G = G_copy\n",
    "    for n in G.nodes():\n",
    "        for e in G.edges(n):\n",
    "            if np.random.rand() < p:\n",
    "                ## perform rewiring\n",
    "                neighbours = np.array(G.edges(n))[:,1]\n",
    "                new_node = np.random.randint(1, high=nodes+1)\n",
    "                while new_node in neighbours:\n",
    "                    new_node = np.random.randint(1, high=nodes+1)\n",
    "                G.remove_edge(e[0], e[1])\n",
    "                G.add_edge(e[0], new_node)\n",
    "                \n",
    "    print nx.average_shortest_path_length(G)/L[0]\n",
    "    print nx.average_clustering(G)/C[0]\n",
    "    \n",
    "\n",
    "\n",
    "    \n"
   ]
  },
  {
   "cell_type": "code",
   "execution_count": null,
   "metadata": {
    "collapsed": true
   },
   "outputs": [],
   "source": [
    "p = 0.01;\n",
    "for n in G.nodes():\n",
    "    for e in G.edges(n):\n",
    "        if np.random.rand() < p:\n",
    "            ## perform rewiring\n",
    "            neighbours = np.array(G.edges(n))[:,1]\n",
    "            new_node = np.random.randint(1, high=nodes+1)\n",
    "            while new_node in neighbours:\n",
    "                new_node = np.random.randint(1, high=nodes+1)\n",
    "            G.remove_edge(e[0], e[1])\n",
    "            G.add_edge(e[0], new_node)\n",
    "\n",
    "print nx.average_shortest_path_length(G)/L[0]\n",
    "print nx.average_clustering(G)/C[0]"
   ]
  },
  {
   "cell_type": "code",
   "execution_count": 202,
   "metadata": {},
   "outputs": [
    {
     "name": "stdout",
     "output_type": "stream",
     "text": [
      "100\n",
      "100\n",
      "0\n"
     ]
    },
    {
     "ename": "IndexError",
     "evalue": "index 100 is out of bounds for axis 1 with size 100",
     "output_type": "error",
     "traceback": [
      "\u001b[0;31m---------------------------------------------------------------------------\u001b[0m",
      "\u001b[0;31mIndexError\u001b[0m                                Traceback (most recent call last)",
      "\u001b[0;32m<ipython-input-202-87b1144b2ee9>\u001b[0m in \u001b[0;36m<module>\u001b[0;34m()\u001b[0m\n\u001b[1;32m      3\u001b[0m \u001b[0;32mprint\u001b[0m \u001b[0;34m(\u001b[0m\u001b[0mi\u001b[0m\u001b[0;34m+\u001b[0m\u001b[0;36m1\u001b[0m\u001b[0;34m)\u001b[0m \u001b[0;34m%\u001b[0m \u001b[0mnodes\u001b[0m\u001b[0;34m\u001b[0m\u001b[0m\n\u001b[1;32m      4\u001b[0m \u001b[0;34m\u001b[0m\u001b[0m\n\u001b[0;32m----> 5\u001b[0;31m \u001b[0madj\u001b[0m\u001b[0;34m[\u001b[0m\u001b[0mi\u001b[0m\u001b[0;34m,\u001b[0m \u001b[0mi\u001b[0m\u001b[0;34m+\u001b[0m\u001b[0;36m1\u001b[0m \u001b[0;34m%\u001b[0m \u001b[0mnodes\u001b[0m\u001b[0;34m]\u001b[0m \u001b[0;34m=\u001b[0m \u001b[0;36m1\u001b[0m\u001b[0;34m\u001b[0m\u001b[0m\n\u001b[0m",
      "\u001b[0;31mIndexError\u001b[0m: index 100 is out of bounds for axis 1 with size 100"
     ]
    }
   ],
   "source": [
    "print i+1\n",
    "print nodes\n",
    "print (i+1) % nodes\n",
    "\n",
    "adj[i, i+1 % nodes] = 1\n"
   ]
  }
 ],
 "metadata": {
  "kernelspec": {
   "display_name": "Python 2",
   "language": "python",
   "name": "python2"
  },
  "language_info": {
   "codemirror_mode": {
    "name": "ipython",
    "version": 2
   },
   "file_extension": ".py",
   "mimetype": "text/x-python",
   "name": "python",
   "nbconvert_exporter": "python",
   "pygments_lexer": "ipython2",
   "version": "2.7.12"
  }
 },
 "nbformat": 4,
 "nbformat_minor": 2
}
