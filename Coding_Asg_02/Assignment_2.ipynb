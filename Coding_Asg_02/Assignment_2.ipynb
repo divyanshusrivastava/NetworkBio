{
 "cells": [
  {
   "cell_type": "markdown",
   "metadata": {},
   "source": [
    " \n",
    "# NETWORK BIOLOGY \n",
    "  \n",
    "## Assignment 1\n",
    "\n",
    "####  Submitted By: \n",
    "#####  Divyanshu Srivastava (MT16125)\n"
   ]
  },
  {
   "cell_type": "code",
   "execution_count": 2,
   "metadata": {
    "collapsed": true
   },
   "outputs": [],
   "source": [
    "import numpy as np\n",
    "import networkx as nx\n",
    "import matplotlib.pyplot as plt"
   ]
  },
  {
   "cell_type": "markdown",
   "metadata": {},
   "source": [
    "##### Question 1 - Watts and Strogatz small world network model"
   ]
  },
  {
   "cell_type": "code",
   "execution_count": 73,
   "metadata": {
    "collapsed": true
   },
   "outputs": [],
   "source": [
    "# Regular graph initialization\n",
    "nodes = 1000\n",
    "k = 10\n",
    "\n",
    "adj = np.zeros([nodes, nodes])\n",
    "\n",
    "for i in range(0, nodes):\n",
    "    for j in range(1, k/2 + 1):\n",
    "        adj[i, (i+j) % nodes] = 1\n",
    "        adj[(i+j) % nodes, i] = 1  \n",
    "\n",
    "edgelist = np.zeros([nodes*k/2, 2])\n",
    "iterator = 0\n",
    "\n",
    "for i in range(0, nodes-1):\n",
    "    for j in range(i+1, nodes):\n",
    "        if adj[i, j] == 1:\n",
    "            edgelist[iterator, 0] = i\n",
    "            edgelist[iterator, 1] = j\n",
    "            iterator += 1\n",
    "\n",
    "G = nx.Graph()\n",
    "G.add_edges_from(edgelist)\n",
    "# print adj\n",
    "# print sum(adj)\n",
    "# G = nx.random_regular_graph(k, nodes)\n",
    "G_copy = G\n",
    "\n",
    "# plt.clf()\n",
    "# pos=nx.spring_layout(G) # positions for all nodes\n",
    "# nx.draw(G, pos)\n",
    "# #nx.draw_networkx_labels(G, pos)\n",
    "# plt.title('Initial Regular Graph')\n",
    "# plt.show()"
   ]
  },
  {
   "cell_type": "code",
   "execution_count": 74,
   "metadata": {},
   "outputs": [
    {
     "name": "stdout",
     "output_type": "stream",
     "text": [
      "0.0001\n",
      "0.0002303\n",
      "0.0005303809\n",
      "0.0012214672127\n",
      "0.00281303899085\n",
      "0.00647842879592\n",
      "0.014919821517\n",
      "0.0343603489537\n",
      "0.0791318836403\n",
      "0.182240728024\n",
      "0.419700396638\n",
      "0.966570013458\n"
     ]
    }
   ],
   "source": [
    "# plt.clf()\n",
    "# pos=nx.spring_layout(G) # positions for all nodes\n",
    "# nx.draw(G, pos)\n",
    "# nx.draw_networkx_labels(G, pos)\n",
    "# plt.title('Initial Regular Graph')\n",
    "# plt.show()\n",
    "\n",
    "prob = list()\n",
    "prob.append(0.0001)\n",
    "while prob[-1] < 1:\n",
    "    prob.append(prob[-1]*2.303)\n",
    "prob = prob[0:-1]\n",
    "\n",
    "L = np.zeros([1, len(prob)+1])[0]\n",
    "C = np.zeros([1, len(prob)+1])[0]\n",
    "\n",
    "G = G_copy\n",
    "\n",
    "L[0] = nx.average_shortest_path_length(G)\n",
    "C[0] = nx.average_clustering(G)\n",
    "\n",
    "\n",
    "count = 5\n",
    "\n",
    "L_temp = np.zeros([1, count])[0]\n",
    "C_temp = np.zeros([1, count])[0]\n",
    "\n",
    "iterator = 1\n",
    "for p in prob:\n",
    "    print p\n",
    "    for c in range(count):\n",
    "        G = G_copy\n",
    "        for n in G.nodes():\n",
    "            for e in G.edges(n):\n",
    "                if np.random.rand() < p:\n",
    "                    ## perform rewiring\n",
    "                    neighbours = np.array(G.edges(n))[:,1]\n",
    "                    new_node = np.random.randint(1, high=nodes+1)\n",
    "                    while new_node in neighbours:\n",
    "                        new_node = np.random.randint(1, high=nodes+1)\n",
    "                    G.remove_edge(e[0], e[1])\n",
    "                    G.add_edge(e[0], new_node)\n",
    "                    if not nx.is_connected(G):\n",
    "                        G.remove_edge(e[0], new_node)\n",
    "                        G.add_edge(e[0], e[1])\n",
    "        L_temp[c] = nx.average_shortest_path_length(G)\n",
    "        C_temp[c] = nx.average_clustering(G)\n",
    "\n",
    "    L[iterator] = np.average(L_temp)\n",
    "    C[iterator] = np.average(C_temp)\n",
    "    iterator += 1\n",
    "\n",
    "\n",
    "## TODO: Capture graph disconnected condition on rewiring\n",
    "\n",
    "# L /= L[0]\n",
    "# C /= C[0]"
   ]
  },
  {
   "cell_type": "code",
   "execution_count": 78,
   "metadata": {},
   "outputs": [
    {
     "data": {
      "image/png": "[encoded data removed]",
      "text/plain": [
       "<matplotlib.figure.Figure at 0x7f74fb05c150>"
      ]
     },
     "metadata": {},
     "output_type": "display_data"
    }
   ],
   "source": [
    "ln = L[0:12]\n",
    "ln = ln/L[0]\n",
    "cn = C[0:12]\n",
    "cn = cn/C[0]\n",
    "\n",
    "plt.semilogx(prob, ln, 'bo', prob, cn, 'rx')\n",
    "\n",
    "plt.show()"
   ]
  },
  {
   "cell_type": "markdown",
   "metadata": {},
   "source": [
    "#### Question 2 - Barabasi Albert Model\n"
   ]
  },
  {
   "cell_type": "code",
   "execution_count": 9,
   "metadata": {},
   "outputs": [
    {
     "data": {
      "image/png": "[encoded data removed]",
      "text/plain": [
       "<matplotlib.figure.Figure at 0x7fbf03fb9190>"
      ]
     },
     "metadata": {},
     "output_type": "display_data"
    }
   ],
   "source": [
    "max_nodes = 100\n",
    "\n",
    "G = nx.Graph([[0, 1]])\n",
    "\n",
    "for x in range(2, max_nodes):\n",
    "#     print x\n",
    "    \n",
    "    p = np.float32(np.asarray(G.degree().values()))\n",
    "    p = p/sum(G.degree().values())\n",
    "#     p = p*200\n",
    "    G.add_node(x)\n",
    "    try:\n",
    "        n = np.random.rand()\n",
    "        m = max(filter(lambda x: x< n, p))\n",
    "        G.add_edge(np.where(max(filter(lambda x: x < n, p)) == p)[0][0], x)\n",
    "    except IndexError:\n",
    "        pass\n",
    "    except ValueError:\n",
    "        pass\n",
    "    try:\n",
    "        G.add_edge(np.where(max(filter(lambda x: x < m, p)) == p)[0][0], x)\n",
    "    except IndexError:\n",
    "        pass\n",
    "    except ValueError:\n",
    "        pass\n",
    "        \n",
    "plt.semilogx(G.degree().values())\n",
    "# plt.plot(G.degree().values())\n",
    "plt.show()"
   ]
  },
  {
   "cell_type": "markdown",
   "metadata": {},
   "source": [
    "#### Question 3"
   ]
  },
  {
   "cell_type": "code",
   "execution_count": null,
   "metadata": {
    "collapsed": true
   },
   "outputs": [],
   "source": []
  }
 ],
 "metadata": {
  "kernelspec": {
   "display_name": "Python 2",
   "language": "python",
   "name": "python2"
  },
  "language_info": {
   "codemirror_mode": {
    "name": "ipython",
    "version": 2
   },
   "file_extension": ".py",
   "mimetype": "text/x-python",
   "name": "python",
   "nbconvert_exporter": "python",
   "pygments_lexer": "ipython2",
   "version": "2.7.12"
  }
 },
 "nbformat": 4,
 "nbformat_minor": 2
}
