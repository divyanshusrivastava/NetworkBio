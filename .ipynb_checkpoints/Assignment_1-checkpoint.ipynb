{
 "cells": [
  {
   "cell_type": "markdown",
   "metadata": {},
   "source": [
    " \n",
    "# NETWORK BIOLOGY \n",
    "  \n",
    "## Assignment 1\n",
    "\n",
    "####  Submitted By: \n",
    "#####  Divyanshu Srivastava (MT16125)\n"
   ]
  },
  {
   "cell_type": "code",
   "execution_count": 5,
   "metadata": {
    "collapsed": true
   },
   "outputs": [],
   "source": [
    "# Import dependencies\n",
    "import numpy as np\n",
    "import pickle\n",
    "import networkx as nx\n",
    "import matplotlib.pyplot as plt"
   ]
  },
  {
   "cell_type": "markdown",
   "metadata": {
    "collapsed": true
   },
   "source": [
    "#### Qeustion 1"
   ]
  },
  {
   "cell_type": "code",
   "execution_count": null,
   "metadata": {},
   "outputs": [],
   "source": [
    "## Undirected Unweighted Graph\n",
    "G1 = nx.Graph()\n",
    "G1.add_edges_from([(1, 2), (1, 3), (3, 4), (5, 6), (7, 8), (2, 5), (8, 3), (5, 8)])\n",
    "plt.clf()\n",
    "\n",
    "pos=nx.spring_layout(G1) # positions for all nodes\n",
    "nx.draw(G1, pos)\n",
    "nx.draw_networkx_labels(G1, pos)\n",
    "plt.title('(a) Undirected Unwieghted Graph')\n",
    "plt.show()"
   ]
  },
  {
   "cell_type": "code",
   "execution_count": null,
   "metadata": {},
   "outputs": [],
   "source": [
    "## Undirected Weighted Graph\n",
    "G2 = nx.MultiGraph()\n",
    "G2.add_weighted_edges_from([(1, 2, 0.1), (1, 3, 0.7), (3, 4, 1.0), (5, 6, 0.4), \n",
    "                            (7, 8, 0.3), (2, 5, 0.3), (8, 3, 1.0), (5, 8, 0.5)])\n",
    "pos=nx.spring_layout(G2) # positions for all nodes\n",
    "nx.draw(G2, pos)\n",
    "edge_labels=dict([((u,v,),d['weight'])\n",
    "             for u,v,d in G2.edges(data=True)])\n",
    "nx.draw_networkx_edge_labels(G2,pos,edge_labels=edge_labels)\n",
    "nx.draw_networkx_labels(G2, pos)\n",
    "plt.title('(b) Undirected Wieghted Graph')\n",
    "plt.show()"
   ]
  },
  {
   "cell_type": "code",
   "execution_count": null,
   "metadata": {},
   "outputs": [],
   "source": [
    "## Directed Unweighted Graph\n",
    "G3 = nx.DiGraph()\n",
    "G3.add_edges_from([(1, 2), (1, 3), (3, 4), (5, 6), (7, 8), (2, 5), (8, 3), (5, 8)])\n",
    "pos=nx.spring_layout(G3) # positions for all nodes\n",
    "nx.draw(G3, pos)\n",
    "nx.draw_networkx_labels(G3, pos)\n",
    "plt.title('(c) Directed Unweighted Graph')\n",
    "plt.show()"
   ]
  },
  {
   "cell_type": "code",
   "execution_count": null,
   "metadata": {},
   "outputs": [],
   "source": [
    "## Directed Weighted Graph\n",
    "G4 = nx.MultiDiGraph()\n",
    "G4.add_weighted_edges_from([(1, 2, 0.1), (1, 3, 0.7), (3, 4, 1.0), (5, 6, 0.4), \n",
    "                            (7, 8, 0.3), (2, 5, 0.3), (8, 3, 1.0), (5, 8, 0.5)])\n",
    "pos=nx.spring_layout(G4) # positions for all nodes\n",
    "nx.draw(G4, pos)\n",
    "edge_labels=dict([((u,v,),d['weight'])\n",
    "             for u,v,d in G4.edges(data=True)])\n",
    "nx.draw_networkx_edge_labels(G4,pos,edge_labels=edge_labels)\n",
    "nx.draw_networkx_labels(G4, pos)\n",
    "plt.title('(d) Directed Wieghted Graph')\n",
    "plt.show()"
   ]
  },
  {
   "cell_type": "code",
   "execution_count": null,
   "metadata": {},
   "outputs": [],
   "source": [
    "## Storing these graphs as adjacency matrix and adjacency list\n",
    "G = {'G1 (UD-UW)': G1, 'G2 (UD-W)': G2,'G3 (D-UW)': G3,'G4 (D-W)': G4}\n",
    "\n",
    "adjacency_matrix = dict()\n",
    "edgelist = dict()\n",
    "for key in G:\n",
    "    adjacency_matrix[key] = nx.to_numpy_matrix(G[key])\n",
    "    edgelist[key] = nx.to_edgelist(G[key])\n",
    "\n",
    "# saving\n",
    "with open('ques1_stired_networks.pickle', 'w') as f:  \n",
    "    pickle.dump([adjacency_matrix, edgelist], f)\n"
   ]
  },
  {
   "cell_type": "markdown",
   "metadata": {},
   "source": [
    "#### Qeustion 2"
   ]
  },
  {
   "cell_type": "code",
   "execution_count": 99,
   "metadata": {},
   "outputs": [
    {
     "name": "stdout",
     "output_type": "stream",
     "text": [
      "G4 (D-W)\n",
      "Directed Graph\n",
      "In Degree of each node: [[0 1 2 1 1 1 0 2]]\n",
      "Out Degree of each node: [[2 1 1 0 2 0 1 1]]\n",
      "G1 (UD-UW)\n",
      "Undirected Graph\n",
      "Degree of each node: [[2 2 3 1 3 1 1 3]]\n",
      "G2 (UD-W)\n",
      "Undirected Graph\n",
      "Degree of each node: [[2 2 3 1 3 1 1 3]]\n",
      "G3 (D-UW)\n",
      "Directed Graph\n",
      "In Degree of each node: [[0 1 2 1 1 1 0 2]]\n",
      "Out Degree of each node: [[2 1 1 0 2 0 1 1]]\n"
     ]
    }
   ],
   "source": [
    "## Fuction to find degree from adjacency matrix\n",
    "\n",
    "# function definition\n",
    "def print_degree(adj):\n",
    "    \"\"\"\n",
    "        This function computes the degree of each node for a given adjacency matrix\n",
    "        For Uniderected Graphs:\n",
    "            It prints node wise degree and returns it.\n",
    "        For Directed Graphs:\n",
    "            It prnts both in degree and out degree and reurns both of them.\n",
    "    \"\"\"\n",
    "    if np.allclose(adj, adj.T, atol=1e-8):\n",
    "        print \"Undirected Graph\"\n",
    "        deg = np.sum(adj != 0, axis=0)\n",
    "        print \"Degree of each node: \" + np.str(deg)\n",
    "    else:\n",
    "        print \"Directed Graph\"\n",
    "        deg = list()\n",
    "        deg.append(np.sum(adj != 0, axis=0).astype(np.int))\n",
    "        deg.append(np.sum(adj != 0, axis=1).astype(np.int).T)\n",
    "        print \"In Degree of each node: \" + np.str(deg[0])\n",
    "        print \"Out Degree of each node: \" + np.str(deg[1])\n",
    "    return deg\n",
    "\n",
    "# loading adjacency matrix which were saved in question 1\n",
    "f = open('ques1_stired_networks.pickle', 'r')\n",
    "adj_matrix, edge_list = pickle.load(f)\n",
    "\n",
    "for key in adj_matrix:\n",
    "    print key\n",
    "    print_degree(adj_matrix[key])"
   ]
  },
  {
   "cell_type": "markdown",
   "metadata": {},
   "source": [
    "### Question 3"
   ]
  },
  {
   "cell_type": "code",
   "execution_count": null,
   "metadata": {},
   "outputs": [],
   "source": [
    "# Computing A square for Undirected nnweighted graph G1\n",
    "A = adjacency_matrix['G1 (UD-UW)']\n",
    "A = A.astype(np.int)\n",
    "A_square = A*A\n",
    "\n",
    "pos=nx.spring_layout(G1) # positions for all nodes\n",
    "nx.draw(G1, pos)\n",
    "nx.draw_networkx_labels(G1, pos)\n",
    "plt.title('Undirected Unwieghted Graph')\n",
    "plt.show()\n",
    "print \"A_square : \\n \" + np.str(A_square)"
   ]
  },
  {
   "cell_type": "markdown",
   "metadata": {},
   "source": [
    "Clearly, $A^2$ as computed above for the undirected unweighted graph G1 (question 1) encodes the information of the number of paths of length 2 from each node to every other node. For Example, Cosider the pair of nodes 1 and 4. There exists a path of length 2 from node 1 to node 4 via node 3, thereby giving $A^2_{(1, 4)} = 1$ . Similarly, there exists three paths of length 2 from node 8 back to node 8, via node 3, node 5 and node 7. Thus we have $A^2_{(8, 8)} = 3$.\n",
    "In general, $A^n_{(i, j)}$ gives the number of paths of length $n$ from node $i$ to node $j$ in the undirected unweighted graph.    "
   ]
  },
  {
   "cell_type": "markdown",
   "metadata": {},
   "source": [
    "### Question 4"
   ]
  },
  {
   "cell_type": "code",
   "execution_count": 94,
   "metadata": {},
   "outputs": [
    {
     "name": "stdout",
     "output_type": "stream",
     "text": [
      "Directed Graph\n",
      "In Degree of each node: [[  2  24  41  33  35   8  27  14  10   8   9   7  45  26  17   4   3   6\n",
      "    4   6   9  13  14  19   5   5   2   5   4   6   3   8   5  13   5  16\n",
      "    7   5   3  10   5   6  10  15 134   5  14  18  20  13   6   9   7   1\n",
      "    0   5   3   0   7  13   5   3   1   5  11   5   3   6   4   2   1   7\n",
      "   11  17  18  13   2  10   6   4   1   2   2   2  36  11  36   7   5   8\n",
      "    7   2   1   7   3   6   4  14  19   5   3   6  12  11   7   8   7   7\n",
      "   11   6   4   7   7  12  25   9   3  26  31  20   4   3  11  11   8  25\n",
      "    3   2   3   6  18   8  15   5   0   6   1  22   6   4   3   9  16   0\n",
      "    2  12   2   3   8   2   1  12   7   6   7   9   7   9   5   9  10   9\n",
      "    9  10   6   5  11  10   8   6   6   6  26  11   5   5   7  13  10   8\n",
      "    7   6   9   4   4   8   6  16   3  17  31  11   5  10   5   8   4  14\n",
      "    8  11  15   6  12   5   8   8   3   6   1   5   6   5   6  11   7   4\n",
      "    4   4   9  16   4   8   1   1   3   4   7  10   2   2   0  15   4  15\n",
      "   10   2   2   2   7   1   1   1   0   0   4   4   3   1   1   7   1   0\n",
      "    5   4   3   4   5   3   1   0   0   0   2   2   2   2   2   2   8  11\n",
      "    1  10   1   9   1  10  12   8   0   1   0   0   1   2   0   0   0   0\n",
      "    0   0   0   0   0   0   0   0   0]]\n",
      "Out Degree of each node: [[ 9 10 39 21 21  7 17  6 12  9  7  5 38 14  9 12 17  5 15  7 10  8  1  2\n",
      "   2  1  5 15  2  5 10 17  8  1  9  2  3  1  6  0  5  9 18  4  0  3  3  7\n",
      "   6  1 11  1 11 11  8  3  5  9 18 24  3  6 12 24  2  7 11 18  5 12 10 18\n",
      "   7  4  3  6  6  7  1  1  1  1  7  8 18  4 18 15  1  4 22 11  4 18  1 14\n",
      "   3  4 15  6  7 11 13 11  4 13  8  6 10 13  7 18  4 10 10 11 12 27 27 15\n",
      "   6 16  8 15  7 34  2  8  2 12 17  5 14 13  8  9  8 30  7  9  4  4 28  5\n",
      "   2 11  3  4 11 17 13  3  4  6  3  4  3  4  4  3  5  5  6  5  5  5  5  4\n",
      "   8  9  8  8 34  1  1  3  5 12  5  6  4  5  3  2  9  8  1 12  5  3  0 23\n",
      "   9 13  6 19  5  3 15 12  3 16 12 16 26 13 12 25  7 11  5  6  4 13  7  8\n",
      "  10  7 13  4  7  2  2  2 15 11 22  1 11  7  8  1  8  4  1  3  5  7  5  9\n",
      "   6  8  1  1  7 19  5  5  5  1  4  2  1  8  3  6  7  8  5  7  1  6  2  3\n",
      "   2  3  2  3  1  1  3  1  4  1  3  4  4  4  8  3  3  2  5  7 16  1  1  1\n",
      "   1  1  1  1  1  1  1  1  1]]\n"
     ]
    },
    {
     "data": {
      "image/png": "[encoded data removed]",
      "text/plain": [
       "<matplotlib.figure.Figure at 0x7f3f9353fa50>"
      ]
     },
     "metadata": {},
     "output_type": "display_data"
    },
    {
     "data": {
      "image/png": "[encoded data removed]",
      "text/plain": [
       "<matplotlib.figure.Figure at 0x7f3f9218bbd0>"
      ]
     },
     "metadata": {},
     "output_type": "display_data"
    }
   ],
   "source": [
    "## Reading C. Elegans neural network dataset\n",
    "G_celegans = nx.read_gml('Newman_Datasets/celegansneural/celegansneural.gml')\n",
    "G_celegans_adj = nx.to_numpy_matrix(G_celegans)\n",
    "G_celegans_deg = print_degree(G_celegans_adj) # function written in question 2\n",
    "\n",
    "# Plotting\n",
    "plt.hist(np.asarray(G_celegans_deg[0])[0], bins='auto')\n",
    "plt.title(\"In Degree Distribution for C. Elegans Neural Network\")\n",
    "plt.xlabel(\"Degree\")\n",
    "plt.ylabel(\"Frequency\")\n",
    "plt.show()\n",
    "\n",
    "plt.hist(np.asarray(G_celegans_deg[1])[0], bins='auto')\n",
    "plt.title(\"Out Degree Distribution for C. Elegans Neural Network\")\n",
    "plt.xlabel(\"Degree\")\n",
    "plt.ylabel(\"Frequency\")\n",
    "plt.show()\n"
   ]
  },
  {
   "cell_type": "code",
   "execution_count": 95,
   "metadata": {},
   "outputs": [
    {
     "name": "stdout",
     "output_type": "stream",
     "text": [
      "Undirected Graph\n",
      "Degree of each node: [[ 3 14 33  9  2  7  6 11  1 17  4  7 10  6 12 12  3 49 14  9  5 10  5  8\n",
      "  15 14 11 15 13  5  6 12 10  5  7  6  7 10  9  5  4  8  7 28  7  6  3  5\n",
      "  10  5 15 28  7  6 13  3  4  3  2 13  5  2  2  5  1  6  7  4 12  2 12  6\n",
      "   7  7  1 10 12  3  3 13  8  6  1  5  6  2  2 10  6  7  1  1  6  2  3  1\n",
      "   3  1  5  2  3  2 10  9 21  7  6  2  4  1  2  1]]\n"
     ]
    },
    {
     "data": {
      "image/png": "[encoded data removed]",
      "text/plain": [
       "<matplotlib.figure.Figure at 0x7f3f95d83cd0>"
      ]
     },
     "metadata": {},
     "output_type": "display_data"
    }
   ],
   "source": [
    "## Reading C. Elegans neural network dataset\n",
    "G_adjnoun = nx.read_gml('Newman_Datasets/adjnoun/adjnoun.gml')\n",
    "G_adjnoun_adj = nx.to_numpy_matrix(G_adjnoun)\n",
    "G_adjnoun_deg = print_degree(G_adjnoun_adj) # function written in question 2\n",
    "\n",
    "# Plotting\n",
    "plt.hist(np.asarray(G_adjnoun_deg[0])[0], bins='auto')\n",
    "plt.title(\"In Degree Distribution for C. Elegans Neural Network\")\n",
    "plt.xlabel(\"Degree\")\n",
    "plt.ylabel(\"Frequency\")\n",
    "plt.show()\n"
   ]
  },
  {
   "cell_type": "markdown",
   "metadata": {},
   "source": [
    "### Question 5\n"
   ]
  },
  {
   "cell_type": "code",
   "execution_count": 98,
   "metadata": {},
   "outputs": [],
   "source": [
    "## Random Undirected Unweighted Graph\n",
    "\n",
    "def create_random_graph(n, e):\n",
    "    \"\"\"\n",
    "        This function creates a random adjacncy matrix for a simple \n",
    "        undirected unweighted graph with n nodes and e edges.\n",
    "        It returns the randomly computed adjacency matrix.\n",
    "    \"\"\"\n",
    "    adj = np.zeros((nodes, nodes))\n",
    "    edges = 0;\n",
    "    while edges < e:\n",
    "        i = np.random.randint(0, n-2)\n",
    "        j = np.random.randint(1, n-1)\n",
    "        if (adj[i][j] == 1):\n",
    "            continue\n",
    "        adj[i][j] = 1\n",
    "        edges = edges+1\n",
    "        \n"
   ]
  },
  {
   "cell_type": "code",
   "execution_count": 97,
   "metadata": {
    "collapsed": true
   },
   "outputs": [],
   "source": [
    "?np.zeros"
   ]
  }
 ],
 "metadata": {
  "kernelspec": {
   "display_name": "Python 2",
   "language": "python",
   "name": "python2"
  },
  "language_info": {
   "codemirror_mode": {
    "name": "ipython",
    "version": 2
   },
   "file_extension": ".py",
   "mimetype": "text/x-python",
   "name": "python",
   "nbconvert_exporter": "python",
   "pygments_lexer": "ipython2",
   "version": "2.7.12"
  }
 },
 "nbformat": 4,
 "nbformat_minor": 2
}
