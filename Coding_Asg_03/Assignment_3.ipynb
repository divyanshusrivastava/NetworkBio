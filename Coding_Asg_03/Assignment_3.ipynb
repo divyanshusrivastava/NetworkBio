{
 "cells": [
  {
   "cell_type": "markdown",
   "metadata": {},
   "source": [
    "## Network Biology \n",
    "### Coding Assignment 3\n",
    "#### Submitted By: Divyanshu Srivastava"
   ]
  },
  {
   "cell_type": "code",
   "execution_count": 11,
   "metadata": {
    "collapsed": true
   },
   "outputs": [],
   "source": [
    "import networkx as nx\n",
    "import numpy as np\n",
    "import matplotlib.pyplot as plt\n",
    "import random\n",
    "import copy\n",
    "from Bio.PDB import *\n",
    "from IPython.display import HTML, display\n",
    "import tabulate"
   ]
  },
  {
   "cell_type": "markdown",
   "metadata": {},
   "source": [
    "#### Question 1\n"
   ]
  },
  {
   "cell_type": "code",
   "execution_count": 2,
   "metadata": {},
   "outputs": [
    {
     "data": {
      "text/plain": [
       "{0: [9, 2],\n",
       " 1: [3, 0],\n",
       " 2: [9, 3, 8, 5, 2],\n",
       " 3: [0, 5, 8],\n",
       " 4: [0, 8, 3, 7, 6],\n",
       " 5: [6, 1],\n",
       " 6: [9, 1, 3],\n",
       " 7: [3, 7],\n",
       " 8: [7, 8],\n",
       " 9: [7, 1, 9, 6],\n",
       " 10: [2, 6, 0, 7, 1],\n",
       " 11: [2, 5, 3, 8],\n",
       " 12: [7, 4],\n",
       " 13: [0, 1],\n",
       " 14: [8],\n",
       " 15: [0, 5, 1],\n",
       " 16: [3, 2, 7],\n",
       " 17: [6],\n",
       " 18: [9, 1, 2, 8],\n",
       " 19: [3, 8],\n",
       " 20: [9],\n",
       " 21: [7, 6, 8, 3],\n",
       " 22: [0, 3, 1, 5],\n",
       " 23: [7, 6, 8, 3],\n",
       " 24: [3, 0, 8, 5],\n",
       " 25: [6, 1, 7],\n",
       " 26: [0, 1],\n",
       " 27: [1],\n",
       " 28: [6, 1],\n",
       " 29: [7, 1, 9, 6],\n",
       " 30: [7, 1, 9, 6],\n",
       " 31: [9, 1, 3],\n",
       " 32: [9],\n",
       " 33: [3, 0]}"
      ]
     },
     "execution_count": 2,
     "metadata": {},
     "output_type": "execute_result"
    }
   ],
   "source": [
    "## Initialization\n",
    "\n",
    "genes = 25\n",
    "tfbs_pool = 10\n",
    "tfbs_per_gene = 3\n",
    "\n",
    "gene_pool = {}\n",
    "for g in range(genes):\n",
    "    gene_pool[g] = random.sample(range(tfbs_pool), tfbs_per_gene)\n",
    "\n",
    "steps_of_evolution = 100\n",
    "\n",
    "p_gene_dublication = 0.25\n",
    "p_gene_deletion = 0.25\n",
    "p_tfbs_dublication = 0.25\n",
    "p_tfbs_deletion = 0.25\n",
    "p_vector = [p_gene_dublication, p_gene_deletion, p_tfbs_dublication, p_tfbs_deletion]\n",
    "\n",
    "\n",
    "\n",
    "## Evolution\n",
    "for s in range(steps_of_evolution):\n",
    "    r = np.random.choice(len(p_vector), p = p_vector)\n",
    "#     print gene_pool\n",
    "    if r == 0:\n",
    "#         print \"Evolution Step : \" + str (s) + \" Gene Dublication\"\n",
    "        gene_to_dublicate = random.sample(range(genes), 1)[0]\n",
    "        gene_pool[genes] = copy.deepcopy(gene_pool[gene_to_dublicate])\n",
    "        genes = genes + 1;\n",
    "    elif r == 1:\n",
    "#         print \"Evolution Step : \" + str (s) + \" Gene Deletion\"\n",
    "        gene_to_delete = random.sample(range(genes), 1)[0]\n",
    "#         gene_pool.pop(gene_to_delete)\n",
    "        for i in range(gene_to_delete, genes-1):\n",
    "            gene_pool[i] = copy.deepcopy(gene_pool[i+1])\n",
    "#         if not gene_to_delete == genes - 1:\n",
    "        gene_pool.pop(genes - 1)\n",
    "        genes = genes-1\n",
    "        if genes == 0:\n",
    "            print \"Gene Pool Empty !\"\n",
    "            break\n",
    "    elif r == 2:\n",
    "#         print \"Evolution Step : \" + str (s) + \" TFBS Dublication\"\n",
    "        tfbs_probability = np.array(range(0, tfbs_pool))\n",
    "        for g in gene_pool:\n",
    "            for value in gene_pool[g]:\n",
    "                tfbs_probability[value] = tfbs_probability[value]+1\n",
    "        tfbs_probability = tfbs_probability.astype(np.float)\n",
    "        tfbs_probability = tfbs_probability / np.sum(tfbs_probability)\n",
    "        tfbs_to_dublicate = np.random.choice(tfbs_pool, p = tfbs_probability)\n",
    "        flag = False\n",
    "        while not flag:\n",
    "            gene_target = np.random.choice(gene_pool.keys())\n",
    "            if tfbs_to_dublicate not in gene_pool[gene_target]:\n",
    "                gene_pool[gene_target].append(tfbs_to_dublicate)\n",
    "                flag = True\n",
    "    else:\n",
    "#         print \"Evolution Step : \" + str (s) + \" TFBS Deletion\"\n",
    "        gene_target = np.random.choice(gene_pool.keys())\n",
    "#         print \"gene_target = \" + str(gene_target)\n",
    "        tfbs_to_delete = np.random.choice(gene_pool[gene_target])\n",
    "#         print \"tfbs_to_delete = \" + str(tfbs_to_delete)\n",
    "        gene_pool[gene_target].remove(tfbs_to_delete)\n",
    "#         print \"gene pool agter deletion\"\n",
    "#         print gene_pool\n",
    "        if len(gene_pool[gene_target]) == 0:\n",
    "            \n",
    "            gene_to_delete = gene_target\n",
    "#             print \"removing gene \" + str(gene_to_delete)\n",
    "#             gene_pool.pop(gene_to_delete)\n",
    "            for i in range(gene_to_delete, genes-1):\n",
    "#                 print i\n",
    "                gene_pool[i] = copy.deepcopy(gene_pool[i+1])\n",
    "#             if not gene_to_delete == genes - 1:\n",
    "            gene_pool.pop(genes - 1)\n",
    "            genes = genes-1\n",
    "            if genes == 0:\n",
    "                print \"Gene Pool Empty !\"\n",
    "                break\n",
    "\n",
    "\n",
    "                \n",
    "## Building coevolution network\n",
    "G = nx.Graph()\n",
    "for g_a in gene_pool.keys():\n",
    "    for g_b in gene_pool.keys():\n",
    "        if not g_a == g_b: \n",
    "            if len(set(gene_pool[g_a]).intersection(gene_pool[g_b])) > 0:\n",
    "                G.add_edge(g_a, g_b)\n",
    "gene_pool\n"
   ]
  },
  {
   "cell_type": "markdown",
   "metadata": {},
   "source": [
    "#### Question 2\n"
   ]
  },
  {
   "cell_type": "code",
   "execution_count": 3,
   "metadata": {
    "collapsed": true
   },
   "outputs": [],
   "source": [
    "def get_RIG(coordinates, labels, cut_off):\n",
    "    \"\"\"this function computes residue interaction graphs\"\"\"\n",
    "    RIG = nx.Graph()\n",
    "    label_ids = range(len(labels))\n",
    "    RIG.add_nodes_from(label_ids)\n",
    "    for i in label_ids:\n",
    "        for j in label_ids:\n",
    "            if not i == j:\n",
    "                if np.linalg.norm(coordinates[i] - coordinates[j]) < 7:\n",
    "                    RIG.add_edge(i, j)\n",
    "    return RIG\n",
    "\n",
    "def get_LIN(RIG, threshold):\n",
    "    \"\"\"this function computes long range network\"\"\"\n",
    "    LIN = nx.Graph(RIG)\n",
    "    for e in LIN.edges():\n",
    "        if not abs(e[0] - e[1]) == 1:\n",
    "            if abs(e[0] - e[1]) < threshold:\n",
    "                LIN.remove_edge(e[0], e[1])\n",
    "    return LIN"
   ]
  },
  {
   "cell_type": "code",
   "execution_count": 4,
   "metadata": {},
   "outputs": [
    {
     "data": {
      "text/html": [
       "<table>\n",
       "<tbody>\n",
       "<tr><td>PBD ID  </td><td>Nodes</td><td>Edges (RIG)</td><td>L (RIG)      </td><td>C (RIG)       </td><td>Edges (LIN)</td><td>L (LIN)      </td><td>C (LIN)       </td></tr>\n",
       "<tr><td>1csp.pdb</td><td>67   </td><td>255        </td><td>3.0447761194 </td><td>0.561993313486</td><td>146        </td><td>4.61239258254</td><td>0.326143094054</td></tr>\n",
       "<tr><td>1hrc.pdb</td><td>104  </td><td>400        </td><td>3.91486183719</td><td>0.566917484225</td><td>182        </td><td>6.77445855116</td><td>0.227335164835</td></tr>\n",
       "<tr><td>1pks.pdb</td><td>76   </td><td>304        </td><td>3.08070175439</td><td>0.557453657454</td><td>182        </td><td>4.38877192982</td><td>0.332002354371</td></tr>\n",
       "<tr><td>2abd.pdb</td><td>86   </td><td>334        </td><td>3.75923392613</td><td>0.57667093888 </td><td>140        </td><td>6.09083447332</td><td>0.125442967885</td></tr>\n",
       "<tr><td>3mef.pdb</td><td>69   </td><td>248        </td><td>3.25532821824</td><td>0.574875527049</td><td>145        </td><td>4.90707587383</td><td>0.289786059351</td></tr>\n",
       "</tbody>\n",
       "</table>"
      ],
      "text/plain": [
       "<IPython.core.display.HTML object>"
      ]
     },
     "metadata": {},
     "output_type": "display_data"
    }
   ],
   "source": [
    "RIG_CUTOFF = 7\n",
    "LIN_THRESHOLD = 12\n",
    "\n",
    "parser = PDBParser()\n",
    "pdb_files = ['1csp.pdb', '1hrc.pdb', '1pks.pdb', '2abd.pdb','3mef.pdb']\n",
    "RIG = []\n",
    "LIN = []\n",
    "\n",
    "\n",
    "for pdb_file in pdb_files:\n",
    "    structure = parser.get_structure('pdb_file', 'pdb files/' + pdb_file)\n",
    "    coordinates = []\n",
    "    labels = []\n",
    "    for model in structure:\n",
    "        for chain in model:\n",
    "            for residue in chain:\n",
    "                try:\n",
    "                    coordinates.append(residue['CA'].get_coord())\n",
    "                    labels.append(residue.get_resname())\n",
    "                except KeyError:\n",
    "                    pass\n",
    "            RIG.append(get_RIG(coordinates, labels, RIG_CUTOFF))\n",
    "            LIN.append(get_LIN(RIG[-1], LIN_THRESHOLD))\n",
    "            break     ## working on chain id A only\n",
    "        break         ## Working on model id 0 only\n",
    "        \n",
    "        \n",
    "output = [['PBD ID', 'Nodes', 'Edges (RIG)', 'L (RIG)', 'C (RIG)', 'Edges (LIN)', 'L (LIN)', 'C (LIN)']]\n",
    "for i in range(len(pdb_files)):\n",
    "    append_list = [pdb_files[i], RIG[i].number_of_nodes(), RIG[i].number_of_edges()]\n",
    "    append_list.append(nx.average_shortest_path_length(RIG[i]))\n",
    "    append_list.append(nx.average_clustering(RIG[i]))\n",
    "    append_list.append(LIN[i].number_of_edges())\n",
    "    append_list.append(nx.average_shortest_path_length(LIN[i]))\n",
    "    append_list.append(nx.average_clustering(LIN[i]))\n",
    "    output.append(append_list)\n",
    "\n",
    "display(HTML(tabulate.tabulate(output, tablefmt='html')))"
   ]
  },
  {
   "cell_type": "markdown",
   "metadata": {},
   "source": [
    "##### Observations\n",
    "1csp and 1pks proteins show high cllustering coefficients in LIN models, suggesting that they have lower rate of foldings. "
   ]
  },
  {
   "cell_type": "markdown",
   "metadata": {},
   "source": [
    "#### Question 3\n"
   ]
  },
  {
   "cell_type": "code",
   "execution_count": 5,
   "metadata": {
    "collapsed": true
   },
   "outputs": [],
   "source": [
    "def get_Bartoli_RIG_Model(nodes, edges):\n",
    "    \"\"\"this function computes bartoli's model of residue interaction graphs\"\"\"\n",
    "    Bartoli_RIG_Model = nx.Graph()\n",
    "    Bartoli_RIG_Model.add_nodes_from(range(nodes))\n",
    "    # adding backbone chain\n",
    "    Bartoli_RIG_Model.add_path(range(nodes))\n",
    "    # making other links\n",
    "    d = {}      # dictionary key: absolute difference, values: possible pairs\n",
    "    for i in range(nodes):\n",
    "        for j in range(nodes):\n",
    "            if abs(i-j) in d:\n",
    "                d[abs(i-j)].append((i, j))\n",
    "            else:\n",
    "                d[abs(i-j)] = [(i, j)]\n",
    "    del(d[0])        # not required\n",
    "    del(d[1])        # already handled in backbone\n",
    "    p = np.asarray([len(x) for x in d.values()]).astype(np.float)\n",
    "    p = p/np.sum(p)\n",
    "    while not nx.number_of_edges(Bartoli_RIG_Model) > edges:\n",
    "        x = random.choice(d[np.random.choice(d.keys())])\n",
    "    #     np.random.choice(d[np.random.choice(d.keys(), p)])\n",
    "        Bartoli_RIG_Model.add_edge(x[0]-1, x[1]-1)\n",
    "        Bartoli_RIG_Model.add_edge(x[0]-1, x[1])\n",
    "        Bartoli_RIG_Model.add_edge(x[0]-1, x[1]+1)\n",
    "        Bartoli_RIG_Model.add_edge(x[0], x[1]-1)\n",
    "        Bartoli_RIG_Model.add_edge(x[0], x[1])\n",
    "        Bartoli_RIG_Model.add_edge(x[0], x[1]+1)\n",
    "        Bartoli_RIG_Model.add_edge(x[0]+1, x[1]-1)\n",
    "        Bartoli_RIG_Model.add_edge(x[0]+1, x[1])\n",
    "        Bartoli_RIG_Model.add_edge(x[0]+1, x[1]+1)\n",
    "    return Bartoli_RIG_Model\n"
   ]
  },
  {
   "cell_type": "code",
   "execution_count": 6,
   "metadata": {},
   "outputs": [
    {
     "data": {
      "text/html": [
       "<table>\n",
       "<tbody>\n",
       "<tr><td>PBD ID  </td><td>Nodes</td><td>Edges (RIG)</td><td>L (RIG)      </td><td>C (RIG)       </td><td>Edges (Bartoli)</td><td>L (Bartoli)  </td><td>C (Bartoli)   </td></tr>\n",
       "<tr><td>1csp.pdb</td><td>67   </td><td>255        </td><td>3.0447761194 </td><td>0.561993313486</td><td>260            </td><td>2.80597014925</td><td>0.39029523437 </td></tr>\n",
       "<tr><td>1hrc.pdb</td><td>104  </td><td>400        </td><td>3.91486183719</td><td>0.566917484225</td><td>405            </td><td>3.11752021563</td><td>0.363109383615</td></tr>\n",
       "<tr><td>1pks.pdb</td><td>76   </td><td>304        </td><td>3.08070175439</td><td>0.557453657454</td><td>305            </td><td>3.00666000666</td><td>0.387244854609</td></tr>\n",
       "<tr><td>2abd.pdb</td><td>86   </td><td>334        </td><td>3.75923392613</td><td>0.57667093888 </td><td>338            </td><td>2.9328631139 </td><td>0.414125890249</td></tr>\n",
       "<tr><td>3mef.pdb</td><td>69   </td><td>248        </td><td>3.25532821824</td><td>0.574875527049</td><td>255            </td><td>2.94688128773</td><td>0.453372108882</td></tr>\n",
       "</tbody>\n",
       "</table>"
      ],
      "text/plain": [
       "<IPython.core.display.HTML object>"
      ]
     },
     "metadata": {},
     "output_type": "display_data"
    }
   ],
   "source": [
    "## Bartoli's model for protein contact map models.\n",
    "\n",
    "Bartoli_RIG_Model = []\n",
    "\n",
    "for rig in RIG:\n",
    "    nodes = nx.number_of_nodes(rig)\n",
    "    edges = nx.number_of_edges(rig)\n",
    "    Bartoli_RIG_Model.append(get_Bartoli_RIG_Model(nodes, edges))\n",
    "    \n",
    "    \n",
    "output = [['PBD ID', 'Nodes', 'Edges (RIG)', 'L (RIG)', 'C (RIG)', 'Edges (Bartoli)', 'L (Bartoli)', 'C (Bartoli)']]\n",
    "for i in range(len(pdb_files)):\n",
    "    append_list = [pdb_files[i], RIG[i].number_of_nodes(), RIG[i].number_of_edges()]\n",
    "    append_list.append(nx.average_shortest_path_length(RIG[i]))\n",
    "    append_list.append(nx.average_clustering(RIG[i]))\n",
    "    append_list.append(Bartoli_RIG_Model[i].number_of_edges())\n",
    "    append_list.append(nx.average_shortest_path_length(Bartoli_RIG_Model[i]))\n",
    "    append_list.append(nx.average_clustering(Bartoli_RIG_Model[i]))\n",
    "    output.append(append_list)\n",
    "\n",
    "display(HTML(tabulate.tabulate(output, tablefmt='html')))"
   ]
  },
  {
   "cell_type": "code",
   "execution_count": 16,
   "metadata": {},
   "outputs": [],
   "source": [
    "x = []\n",
    "for e in Bartoli_RIG_Model[0].edges():\n",
    "    x.append(np.linalg.norm(e))\n",
    "\n",
    "plt.hist(x, bins = 30)\n",
    "plt.show()"
   ]
  },
  {
   "cell_type": "markdown",
   "metadata": {},
   "source": [
    "#### Question 4\n"
   ]
  },
  {
   "cell_type": "code",
   "execution_count": 10,
   "metadata": {},
   "outputs": [],
   "source": [
    "?plt"
   ]
  }
 ],
 "metadata": {
  "kernelspec": {
   "display_name": "Python 2",
   "language": "python",
   "name": "python2"
  },
  "language_info": {
   "codemirror_mode": {
    "name": "ipython",
    "version": 2
   },
   "file_extension": ".py",
   "mimetype": "text/x-python",
   "name": "python",
   "nbconvert_exporter": "python",
   "pygments_lexer": "ipython2",
   "version": "2.7.12"
  }
 },
 "nbformat": 4,
 "nbformat_minor": 2
}
