{
 "cells": [
  {
   "cell_type": "markdown",
   "metadata": {},
   "source": [
    "## Network Biology \n",
    "### Coding Assignment 3\n",
    "#### Submitted By: Divyanshu Srivastava"
   ]
  },
  {
   "cell_type": "code",
   "execution_count": 25,
   "metadata": {
    "collapsed": true
   },
   "outputs": [],
   "source": [
    "import networkx as nx\n",
    "import numpy as np\n",
    "import matplotlib as plt\n",
    "import random"
   ]
  },
  {
   "cell_type": "markdown",
   "metadata": {},
   "source": [
    "#### Question 1\n"
   ]
  },
  {
   "cell_type": "code",
   "execution_count": 410,
   "metadata": {},
   "outputs": [],
   "source": [
    "## Initialization\n",
    "\n",
    "genes = 25\n",
    "tfbs_pool = 10\n",
    "tfbs_per_gene = 3\n",
    "\n",
    "gene_pool = {}\n",
    "for g in range(genes):\n",
    "    gene_pool[g] = random.sample(range(tfbs_pool), tfbs_per_gene)\n",
    "\n",
    "steps_of_evolution = 100\n",
    "\n",
    "p_gene_dublication = 0.25\n",
    "p_gene_deletion = 0.25\n",
    "p_tfbs_dublication = 0.25\n",
    "p_tfbs_deletion = 0.25\n",
    "p_vector = [p_gene_dublication, p_gene_deletion, p_tfbs_dublication, p_tfbs_deletion]\n",
    "\n",
    "\n",
    "\n",
    "## Evolution\n",
    "for s in range(steps_of_evolution):\n",
    "    r = np.random.choice(len(p_vector), p = p_vector)\n",
    "    if r == 0:\n",
    "#         print \"Evolution Step : \" + str (s) + \" Gene Dublication\"\n",
    "        gene_to_dublicate = random.sample(range(genes), 1)[0]\n",
    "        gene_pool[genes] = gene_pool[gene_to_dublicate]\n",
    "        genes = genes + 1;\n",
    "    elif r == 1:\n",
    "#         print \"Evolution Step : \" + str (s) + \" Gene Deletion\"\n",
    "        gene_to_delete = random.sample(range(genes), 1)[0]\n",
    "        gene_pool.pop(gene_to_delete)\n",
    "        for i in range(gene_to_delete, genes-1):\n",
    "            gene_pool[i] = gene_pool.get(i+1)\n",
    "        if not gene_to_delete == genes - 1:\n",
    "            gene_pool.pop(genes - 1)\n",
    "        genes = genes-1\n",
    "        if genes == 0:\n",
    "            print \"Gene Pool Empty !\"\n",
    "            break\n",
    "    elif r == 2:\n",
    "#         print \"Evolution Step : \" + str (s) + \" TFBS Dublication\"\n",
    "        tfbs_probability = np.array(range(0, tfbs_pool))\n",
    "        for g in gene_pool:\n",
    "            for value in gene_pool[g]:\n",
    "                tfbs_probability[value] = tfbs_probability[value]+1\n",
    "        tfbs_probability = tfbs_probability.astype(np.float)\n",
    "        tfbs_probability = tfbs_probability / np.sum(tfbs_probability)\n",
    "        tfbs_to_dublicate = np.random.choice(tfbs_pool, p = tfbs_probability)\n",
    "        flag = False\n",
    "        while not flag:\n",
    "            gene_target = np.random.choice(gene_pool.keys())\n",
    "            if tfbs_to_dublicate not in gene_pool[gene_target]:\n",
    "                gene_pool[gene_target].append(tfbs_to_dublicate)\n",
    "                flag = True\n",
    "    else:\n",
    "#         print \"Evolution Step : \" + str (s) + \" TFBS Deletion\"\n",
    "        gene_target = np.random.choice(gene_pool.keys())\n",
    "        tfbs_to_delete = np.random.choice(gene_pool[gene_target])\n",
    "        gene_pool[gene_target].remove(tfbs_to_delete)\n",
    "        if len(gene_pool[gene_target]) == 0:\n",
    "            gene_to_delete = gene_target\n",
    "            gene_pool.pop(gene_to_delete)\n",
    "            for i in range(gene_to_delete, genes-1):\n",
    "                gene_pool[i] = gene_pool.get(i+1)\n",
    "            if not gene_to_delete == genes - 1:\n",
    "                gene_pool.pop(genes - 1)\n",
    "            genes = genes-1\n",
    "            if genes == 0:\n",
    "                print \"Gene Pool Empty !\"\n",
    "                break\n",
    "\n",
    "\n",
    "## Building coevolution network\n",
    "G = nx.Graph()\n",
    "for g_a in gene_pool.keys():\n",
    "    for g_b in gene_pool.keys():\n",
    "        if not g_a == g_b: \n",
    "            if len(set(gene_pool[g_a]).intersection(gene_pool[g_b])) > 0:\n",
    "                G.add_edge(g_a, g_b)\n"
   ]
  },
  {
   "cell_type": "markdown",
   "metadata": {},
   "source": [
    "#### Question 2\n"
   ]
  },
  {
   "cell_type": "code",
   "execution_count": null,
   "metadata": {
    "collapsed": true
   },
   "outputs": [],
   "source": []
  },
  {
   "cell_type": "markdown",
   "metadata": {},
   "source": [
    "#### Question 3\n"
   ]
  },
  {
   "cell_type": "code",
   "execution_count": null,
   "metadata": {
    "collapsed": true
   },
   "outputs": [],
   "source": []
  },
  {
   "cell_type": "markdown",
   "metadata": {},
   "source": [
    "#### Question 4\n"
   ]
  }
 ],
 "metadata": {
  "kernelspec": {
   "display_name": "Python 2",
   "language": "python",
   "name": "python2"
  },
  "language_info": {
   "codemirror_mode": {
    "name": "ipython",
    "version": 2
   },
   "file_extension": ".py",
   "mimetype": "text/x-python",
   "name": "python",
   "nbconvert_exporter": "python",
   "pygments_lexer": "ipython2",
   "version": "2.7.12"
  }
 },
 "nbformat": 4,
 "nbformat_minor": 2
}
